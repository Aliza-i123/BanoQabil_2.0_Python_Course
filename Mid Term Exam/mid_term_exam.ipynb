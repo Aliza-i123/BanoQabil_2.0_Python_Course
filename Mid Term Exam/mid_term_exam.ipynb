{
 "cells": [
  {
   "cell_type": "markdown",
   "metadata": {},
   "source": [
    "# Mid Term Exam"
   ]
  },
  {
   "cell_type": "markdown",
   "metadata": {},
   "source": [
    "### Q1 - Write a Python program to do arithmetical operations addition, division, power,floor division."
   ]
  },
  {
   "cell_type": "code",
   "execution_count": null,
   "metadata": {},
   "outputs": [],
   "source": [
    "# Arithmetical operations\n",
    "num1 = int(input(\"Enter first number: \"))\n",
    "num2 = int(input(\"Enter second number: \"))"
   ]
  },
  {
   "cell_type": "code",
   "execution_count": null,
   "metadata": {},
   "outputs": [],
   "source": [
    "# Addition\n",
    "addition_result = num1 + num2\n",
    "print(f\"Addition: {num1} + {num2} = {addition_result}\")"
   ]
  },
  {
   "cell_type": "code",
   "execution_count": null,
   "metadata": {},
   "outputs": [],
   "source": [
    "# Division\n",
    "division_result = num1 / num2\n",
    "print(f\"Division: {num1} / {num2} = {division_result}\")"
   ]
  },
  {
   "cell_type": "code",
   "execution_count": null,
   "metadata": {},
   "outputs": [],
   "source": [
    "# Power\n",
    "power_result = num1 ** num2\n",
    "print(f\"Power: {num1} ^ {num2} = {power_result}\")"
   ]
  },
  {
   "cell_type": "code",
   "execution_count": null,
   "metadata": {},
   "outputs": [],
   "source": [
    "# Floor Division\n",
    "floor_division_result = num1 // num2\n",
    "print(f\"Floor Division: {num1} // {num2} = {floor_division_result}\")"
   ]
  },
  {
   "cell_type": "code",
   "execution_count": null,
   "metadata": {},
   "outputs": [],
   "source": [
    "# This is example if we want to use the multiple operations\n",
    "# Multiple operations\n",
    "result = ((num1 + num2) * num1) / (num2 - num1)\n",
    "print(f\"Multiple Operations: (({num1} + {num2}) * {num1}) / ({num2} - {num1}) = {result}\")"
   ]
  },
  {
   "cell_type": "markdown",
   "metadata": {},
   "source": [
    "---------------------------------------------------"
   ]
  },
  {
   "cell_type": "markdown",
   "metadata": {},
   "source": [
    "### Question2 - Write a Python program to find the area of a triangle."
   ]
  },
  {
   "cell_type": "code",
   "execution_count": null,
   "metadata": {},
   "outputs": [],
   "source": [
    "# Area of a triangle\n",
    "base = 5\n",
    "height = 8\n",
    "triangle_area = 0.5 * base * height\n",
    "print(f\"Area of Triangle with base {base} and height {height}: {triangle_area}\")"
   ]
  },
  {
   "cell_type": "markdown",
   "metadata": {},
   "source": [
    "---------------------------------------------------------------"
   ]
  },
  {
   "cell_type": "markdown",
   "metadata": {},
   "source": [
    "### Question3 - Write a Python program to convert Celsius to Fahrenheit."
   ]
  },
  {
   "cell_type": "code",
   "execution_count": null,
   "metadata": {},
   "outputs": [],
   "source": [
    "# Celsius to Fahrenheit conversion\n",
    "celsius_temperature = 25\n",
    "fahrenheit_temperature = (celsius_temperature * 9/5) + 32\n",
    "print(f\"{celsius_temperature} degrees Celsius is equal to {fahrenheit_temperature:.2f} degrees Fahrenheit\")"
   ]
  },
  {
   "cell_type": "markdown",
   "metadata": {},
   "source": [
    "---------------------------------------------------------------"
   ]
  },
  {
   "cell_type": "markdown",
   "metadata": {},
   "source": [
    "### Question4 - Write a Python program that reads two integers representing a month and day and prints the season for that month and day.\n"
   ]
  },
  {
   "cell_type": "code",
   "execution_count": null,
   "metadata": {},
   "outputs": [],
   "source": [
    "# Data types\n",
    "\n",
    "# Integers\n",
    "number = 10\n",
    "float_number = 10.5\n",
    "string = \"Hello World\"\n",
    "boolean = True\n",
    "lst = [1, 2, 3, 4, 5]\n",
    "tup = (1, 2, 3, 4, 5)\n",
    "set = {1, 2, 3, 4, 5}\n",
    "dict = {\"name\": \"Muhammad Abdullah\", \"age\": 36}\n",
    "\n",
    "# Print data types\n",
    "print(f\"The data type of {number} is {type(number)}\")\n",
    "print(f\"The data type of {float_number} is {type(float_number)}\")\n",
    "print(f\"The data type of {string} is {type(string)}\")\n",
    "print(f\"The data type of {boolean} is {type(boolean)}\")\n",
    "print(f\"The data type of {lst} is {type(lst)}\")\n",
    "print(f\"The data type of {tup} is {type(tup)}\")\n",
    "print(f\"The data type of {set} is {type(set)}\")\n",
    "print(f\"The data type of {dict} is {type(dict)}\")"
   ]
  },
  {
   "cell_type": "markdown",
   "metadata": {},
   "source": [
    "---------------------------------------------------------------"
   ]
  },
  {
   "cell_type": "markdown",
   "metadata": {},
   "source": [
    "# End Of Exam"
   ]
  },
  {
   "cell_type": "markdown",
   "metadata": {},
   "source": [
    "## For Practice do following questions\n",
    "#### 1 - Write a Python program to calculate the area and circumference of a circle. Use a given radius.\n",
    "#### 2 - Write a Python program to convert a distance in kilometers to miles. Take the distance in kilometers as user input.\n",
    "#### 3 - Write a python program that check whether the number is even or odd."
   ]
  },
  {
   "cell_type": "markdown",
   "metadata": {},
   "source": []
  }
 ],
 "metadata": {
  "language_info": {
   "name": "python"
  }
 },
 "nbformat": 4,
 "nbformat_minor": 2
}
